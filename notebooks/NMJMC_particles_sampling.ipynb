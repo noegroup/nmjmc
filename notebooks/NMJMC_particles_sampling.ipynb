{
 "cells": [
  {
   "cell_type": "code",
   "execution_count": null,
   "metadata": {},
   "outputs": [],
   "source": [
    "import tensorflow as tf\n",
    "import matplotlib.pyplot as plt\n",
    "import numpy as np\n",
    "from nmjmc.nn import NeuralMJMCNetwork\n",
    "from nmjmc.systems import RepulsiveParticles\n",
    "from nmjmc.sampling import MJMCSampler, MCSampler\n",
    "from nmjmc.util import draw_config, reference_mapper\n",
    "import nmjmc\n",
    "import pickle\n",
    "from scipy import integrate"
   ]
  },
  {
   "cell_type": "code",
   "execution_count": null,
   "metadata": {},
   "outputs": [],
   "source": [
    "references = np.load(\"../local_data/particles_reference_configurations.npz\")\n",
    "reference_open = references[\"reference_open\"]\n",
    "reference_closed = references[\"reference_closed\"]\n",
    "biased_confs = np.load(\n",
    "    \"../local_data/training_data_particles_biased.npz\", allow_pickle=True\n",
    ")\n",
    "particle_system = RepulsiveParticles(params=biased_confs[\"params\"].tolist())"
   ]
  },
  {
   "cell_type": "code",
   "execution_count": null,
   "metadata": {},
   "outputs": [],
   "source": [
    "# run sampling on CPU\n",
    "config = tf.ConfigProto(device_count={\"GPU\": 0})\n",
    "sess = tf.Session(config=config)"
   ]
  },
  {
   "cell_type": "code",
   "execution_count": null,
   "metadata": {
    "scrolled": true
   },
   "outputs": [],
   "source": [
    "dim = 76\n",
    "t_nodes = [dim] * 3\n",
    "s_nodes = [dim] * 3\n",
    "nnicer = 20\n",
    "leakyRelu = tf.keras.layers.LeakyReLU(alpha=0.1)\n",
    "\n",
    "\n",
    "def split_cond(x, dimer_split):\n",
    "    return tf.abs(x[:, 0] - x[:, 2]) < dimer_split\n",
    "\n",
    "\n",
    "nn = NeuralMJMCNetwork(\n",
    "    s_nodes,\n",
    "    t_nodes,\n",
    "    nnicer,\n",
    "    layer_activation=leakyRelu,\n",
    "    split_cond=split_cond,\n",
    "    system=particle_system,\n",
    ")\n",
    "nn.trainable_rnvp(True)"
   ]
  },
  {
   "cell_type": "code",
   "execution_count": null,
   "metadata": {
    "scrolled": true
   },
   "outputs": [],
   "source": [
    "nn.load_weights(\"../local_data/pretrained_models/nmjmc_particles_model.h5\")"
   ]
  },
  {
   "cell_type": "markdown",
   "metadata": {},
   "source": [
    "# Sample\n",
    "----"
   ]
  },
  {
   "cell_type": "code",
   "execution_count": null,
   "metadata": {},
   "outputs": [],
   "source": [
    "# set sampling parameters\n",
    "\n",
    "N_steps = 15_00  # 0_000\n",
    "N_confs = 1\n",
    "temperatures = [0.5, 1.0, 2.0]\n",
    "noise = 0.01\n",
    "local_probability = 0.99\n",
    "remapper = reference_mapper(reference_open, reference_closed)\n",
    "initial_config = np.array([reference_closed] * N_confs)\n",
    "stride = 15"
   ]
  },
  {
   "cell_type": "code",
   "execution_count": null,
   "metadata": {
    "scrolled": true
   },
   "outputs": [],
   "source": [
    "samples = []\n",
    "for T in temperatures:\n",
    "    simulate = MJMCSampler(\n",
    "        nn, local_probability, particle_system.energy, noise=noise, beta=1.0 / T\n",
    "    )\n",
    "    sample = simulate.run(\n",
    "        initial_config,\n",
    "        N_steps,\n",
    "        reassign_labels=remapper,\n",
    "        reporter=\"notebook\",\n",
    "        verbose=0,\n",
    "        stride=stride,\n",
    "    )\n",
    "    samples.append(sample)\n",
    "samples = np.array(samples)"
   ]
  },
  {
   "cell_type": "code",
   "execution_count": null,
   "metadata": {},
   "outputs": [],
   "source": [
    "np.save(\"../local_data/nmjmc_samples_particles\", samples)"
   ]
  }
 ],
 "metadata": {
  "kernelspec": {
   "display_name": "Python 3",
   "language": "python",
   "name": "python3"
  },
  "language_info": {
   "codemirror_mode": {
    "name": "ipython",
    "version": 3
   },
   "file_extension": ".py",
   "mimetype": "text/x-python",
   "name": "python",
   "nbconvert_exporter": "python",
   "pygments_lexer": "ipython3",
   "version": "3.7.3"
  }
 },
 "nbformat": 4,
 "nbformat_minor": 2
}
