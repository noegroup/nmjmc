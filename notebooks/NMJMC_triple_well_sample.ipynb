{
 "cells": [
  {
   "cell_type": "code",
   "execution_count": null,
   "metadata": {},
   "outputs": [],
   "source": [
    "%load_ext autoreload\n",
    "%autoreload 2"
   ]
  },
  {
   "cell_type": "code",
   "execution_count": null,
   "metadata": {},
   "outputs": [],
   "source": [
    "import numpy as np\n",
    "import matplotlib.pyplot as plt\n",
    "from nmjmc.systems import GaussianDoublewell, GaussianTripleWell\n",
    "from nmjmc.sampling import MCSampler, VoronoiMixture\n",
    "from nmjmc.nn import NeuralMJMCNetwork\n",
    "import tensorflow as tf\n",
    "from functools import partial, update_wrapper\n",
    "from matplotlib.colors import LogNorm\n",
    "from tqdm import tqdm_notebook as tqdm\n",
    "import scipy.integrate as si\n",
    "import matplotlib as mpl"
   ]
  },
  {
   "cell_type": "code",
   "execution_count": null,
   "metadata": {},
   "outputs": [],
   "source": [
    "minima = np.array([[-2.2, -1.0], [0.0, 2], [2, -0.8]])\n",
    "factors = np.array([10.0, 10.0, 10.0, 0.2])"
   ]
  },
  {
   "cell_type": "code",
   "execution_count": null,
   "metadata": {},
   "outputs": [],
   "source": [
    "triple_well = GaussianTripleWell()\n",
    "sampler = MCSampler(triple_well, minima[0], 2)"
   ]
  },
  {
   "cell_type": "code",
   "execution_count": null,
   "metadata": {},
   "outputs": [],
   "source": [
    "config = tf.ConfigProto(device_count={\"GPU\": 0})\n",
    "sess = tf.Session(config=config)"
   ]
  },
  {
   "cell_type": "code",
   "execution_count": null,
   "metadata": {},
   "outputs": [],
   "source": [
    "def split_01(x, _):\n",
    "    d0 = x - minima[0]\n",
    "    d0 = d0[:, 0] ** 2 + d0[:, 1] ** 2\n",
    "    d1 = x - minima[1]\n",
    "    d1 = d1[:, 0] ** 2 + d1[:, 1] ** 2\n",
    "    return d0 < d1\n",
    "\n",
    "\n",
    "def split_02(x, _):\n",
    "    d0 = x - minima[0]\n",
    "    d0 = d0[:, 0] ** 2 + d0[:, 1] ** 2\n",
    "    d2 = x - minima[2]\n",
    "    d2 = d2[:, 0] ** 2 + d2[:, 1] ** 2\n",
    "    return d0 < d2\n",
    "\n",
    "\n",
    "def split_12(x, _):\n",
    "    d1 = x - minima[1]\n",
    "    d1 = d1[:, 0] ** 2 + d1[:, 1] ** 2\n",
    "    d2 = x - minima[2]\n",
    "    d2 = d2[:, 0] ** 2 + d2[:, 1] ** 2\n",
    "    return d1 < d2"
   ]
  },
  {
   "cell_type": "code",
   "execution_count": null,
   "metadata": {},
   "outputs": [],
   "source": [
    "dim = 2\n",
    "nnodes = [20, 20, 20]\n",
    "nnodes_small = [8 * dim, 4 * dim, 2 * dim]\n",
    "nintermediates = 0\n",
    "block_length = 10\n",
    "nnodes_sigma = []"
   ]
  },
  {
   "cell_type": "code",
   "execution_count": null,
   "metadata": {},
   "outputs": [],
   "source": [
    "nn_01 = NeuralMJMCNetwork(\n",
    "    nnodes,\n",
    "    nnodes,\n",
    "    block_length,\n",
    "    block_length,\n",
    "    dim=2,\n",
    "    system=triple_well,\n",
    "    split_cond=split_01,\n",
    ")\n",
    "nn_02 = NeuralMJMCNetwork(\n",
    "    nnodes,\n",
    "    nnodes,\n",
    "    block_length,\n",
    "    block_length,\n",
    "    dim=2,\n",
    "    system=triple_well,\n",
    "    split_cond=split_02,\n",
    ")\n",
    "nn_12 = NeuralMJMCNetwork(\n",
    "    nnodes,\n",
    "    nnodes,\n",
    "    block_length,\n",
    "    block_length,\n",
    "    dim=2,\n",
    "    system=triple_well,\n",
    "    split_cond=split_12,\n",
    ")"
   ]
  },
  {
   "cell_type": "code",
   "execution_count": null,
   "metadata": {},
   "outputs": [],
   "source": [
    "nn_01.load_weights(\n",
    "    \"../local_data/pretrained_models/rnvp_01_NJMC_full_partition_weights.h5\"\n",
    ")\n",
    "nn_02.load_weights(\n",
    "    \"../local_data/pretrained_models/rnvp_02_NJMC_full_partition_weights.h5\"\n",
    ")\n",
    "nn_12.load_weights(\n",
    "    \"../local_data/pretrained_models/rnvp_12_NJMC_full_partition_weights.h5\"\n",
    ")"
   ]
  },
  {
   "cell_type": "code",
   "execution_count": null,
   "metadata": {},
   "outputs": [],
   "source": [
    "minima = np.array([[-2.2, -1.0], [0.0, 2], [2, -0.8]])"
   ]
  },
  {
   "cell_type": "code",
   "execution_count": null,
   "metadata": {},
   "outputs": [],
   "source": [
    "selection_probabilities = np.zeros((4, 4))\n",
    "p_global = 0.1\n",
    "selection_probabilities[0, 0] = p_global\n",
    "selection_probabilities[0, 1] = p_global\n",
    "selection_probabilities[1, 0] = p_global\n",
    "selection_probabilities[1, 2] = p_global\n",
    "selection_probabilities[2, 1] = p_global\n",
    "selection_probabilities[2, 2] = p_global\n",
    "selection_probabilities[:, 3] = 1.0 - np.sum(selection_probabilities[:, :3], axis=1)\n",
    "selection_probabilities[3, 3] = 1.0"
   ]
  },
  {
   "cell_type": "code",
   "execution_count": null,
   "metadata": {},
   "outputs": [],
   "source": [
    "networks = [nn_01, nn_02, nn_12]"
   ]
  },
  {
   "cell_type": "code",
   "execution_count": null,
   "metadata": {},
   "outputs": [],
   "source": [
    "x0 = np.repeat(np.expand_dims(minima[2], 0), 100, axis=0)"
   ]
  },
  {
   "cell_type": "code",
   "execution_count": null,
   "metadata": {},
   "outputs": [],
   "source": [
    "kernel_connectivity = [[0, 1], [0, 2], [2, 1]]"
   ]
  },
  {
   "cell_type": "code",
   "execution_count": null,
   "metadata": {
    "scrolled": true
   },
   "outputs": [],
   "source": [
    "mm = VoronoiMixture(\n",
    "    minima,\n",
    "    networks,\n",
    "    selection_probabilities,\n",
    "    triple_well.energy,\n",
    "    kernel_connectivity,\n",
    "    dim=2,\n",
    ")\n",
    "samples, global_pacc = np.array(mm.run(x0, 100, reporter=\"notebook\"))"
   ]
  },
  {
   "cell_type": "code",
   "execution_count": null,
   "metadata": {},
   "outputs": [],
   "source": [
    "np.save(\"../local_data/samples_triple_well.np\", samples)"
   ]
  }
 ],
 "metadata": {
  "kernelspec": {
   "display_name": "Python 3",
   "language": "python",
   "name": "python3"
  },
  "language_info": {
   "codemirror_mode": {
    "name": "ipython",
    "version": 3
   },
   "file_extension": ".py",
   "mimetype": "text/x-python",
   "name": "python",
   "nbconvert_exporter": "python",
   "pygments_lexer": "ipython3",
   "version": "3.7.3"
  }
 },
 "nbformat": 4,
 "nbformat_minor": 2
}
