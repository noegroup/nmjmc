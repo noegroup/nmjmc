{
 "cells": [
  {
   "cell_type": "code",
   "execution_count": null,
   "metadata": {},
   "outputs": [],
   "source": [
    "%load_ext autoreload\n",
    "%autoreload 2"
   ]
  },
  {
   "cell_type": "code",
   "execution_count": null,
   "metadata": {},
   "outputs": [],
   "source": [
    "import numpy as np\n",
    "import matplotlib.pyplot as plt\n",
    "from nmjmc.systems import GaussianTripleWell\n",
    "from nmjmc.nn import NeuralMJMCNetwork\n",
    "from nmjmc.sampling import MCSampler\n",
    "import tensorflow as tf\n",
    "from tensorflow.nn import relu\n",
    "from functools import partial, update_wrapper\n",
    "from matplotlib.colors import LogNorm"
   ]
  },
  {
   "cell_type": "code",
   "execution_count": null,
   "metadata": {},
   "outputs": [],
   "source": [
    "minima = np.array([[-2.2, -1.0], [0.0, 2], [2, -0.8]])\n",
    "factors = np.array([10.0, 10.0, 10.0, 0.2])"
   ]
  },
  {
   "cell_type": "code",
   "execution_count": null,
   "metadata": {},
   "outputs": [],
   "source": [
    "triple_well = GaussianTripleWell()\n",
    "sampler = MCSampler(triple_well, minima[0], 2, stride=10)"
   ]
  },
  {
   "cell_type": "code",
   "execution_count": null,
   "metadata": {},
   "outputs": [],
   "source": [
    "triple_well.plot_contour(bounds=[-4, 4, -4, 4, -4, 4])\n",
    "plt.colorbar()\n",
    "plt.scatter(minima[:, 0], minima[:, 1])"
   ]
  },
  {
   "cell_type": "code",
   "execution_count": null,
   "metadata": {},
   "outputs": [],
   "source": [
    "allTrajs = []\n",
    "for minimum in minima:\n",
    "    trajs = []\n",
    "    for i in range(1):\n",
    "        sampler.reset(np.array([minimum]))\n",
    "        sampler.run(2000)\n",
    "        trajs.append(sampler.traj)\n",
    "    allTrajs.append(np.array(trajs))\n",
    "allTrajs = np.array(allTrajs)"
   ]
  },
  {
   "cell_type": "code",
   "execution_count": null,
   "metadata": {},
   "outputs": [],
   "source": [
    "data = allTrajs.reshape((3, -1, 2))"
   ]
  },
  {
   "cell_type": "code",
   "execution_count": null,
   "metadata": {},
   "outputs": [],
   "source": [
    "triple_well.plot_contour(bounds=[-3,3,-3,3,-3,3])\n",
    "plt.colorbar()\n",
    "for j in range(3):\n",
    "    plt.plot(data[j,:,0], data[j,:,1])"
   ]
  },
  {
   "cell_type": "code",
   "execution_count": null,
   "metadata": {},
   "outputs": [],
   "source": [
    "rc_01 = minima[0] - minima[1]\n",
    "rc_02 = minima[0] - minima[2]\n",
    "rc_12 = minima[1] - minima[2]"
   ]
  },
  {
   "cell_type": "code",
   "execution_count": null,
   "metadata": {},
   "outputs": [],
   "source": [
    "def split_01(x, _):\n",
    "    d0 = x - minima[0]\n",
    "    d0 = d0[:, 0] ** 2 + d0[:, 1] ** 2\n",
    "    d1 = x - minima[1]\n",
    "    d1 = d1[:, 0] ** 2 + d1[:, 1] ** 2\n",
    "    return d0 < d1\n",
    "\n",
    "\n",
    "def split_02(x, _):\n",
    "    d0 = x - minima[0]\n",
    "    d0 = d0[:, 0] ** 2 + d0[:, 1] ** 2\n",
    "    d2 = x - minima[2]\n",
    "    d2 = d2[:, 0] ** 2 + d2[:, 1] ** 2\n",
    "    return d0 < d2\n",
    "\n",
    "\n",
    "def split_12(x, _):\n",
    "    d1 = x - minima[1]\n",
    "    d1 = d1[:, 0] ** 2 + d1[:, 1] ** 2\n",
    "    d2 = x - minima[2]\n",
    "    d2 = d2[:, 0] ** 2 + d2[:, 1] ** 2\n",
    "    return d1 < d2"
   ]
  },
  {
   "cell_type": "code",
   "execution_count": null,
   "metadata": {},
   "outputs": [],
   "source": [
    "dim = 2\n",
    "nnodes = [20, 20, 20]\n",
    "nnodes_small = [8 * dim, 4 * dim, 2 * dim]\n",
    "nintermediates = 0\n",
    "block_length = 10\n",
    "nnodes_sigma = []"
   ]
  },
  {
   "cell_type": "code",
   "execution_count": null,
   "metadata": {},
   "outputs": [],
   "source": [
    "nn_01 = NeuralMJMCNetwork(\n",
    "    nnodes,\n",
    "    nnodes,\n",
    "    block_length,\n",
    "    block_length,\n",
    "    dim=2,\n",
    "    system=triple_well,\n",
    "    split_cond=split_01,\n",
    ")\n",
    "nn_02 = NeuralMJMCNetwork(\n",
    "    nnodes,\n",
    "    nnodes,\n",
    "    block_length,\n",
    "    block_length,\n",
    "    dim=2,\n",
    "    system=triple_well,\n",
    "    split_cond=split_02,\n",
    ")\n",
    "nn_12 = NeuralMJMCNetwork(\n",
    "    nnodes,\n",
    "    nnodes,\n",
    "    block_length,\n",
    "    block_length,\n",
    "    dim=2,\n",
    "    system=triple_well,\n",
    "    split_cond=split_12,\n",
    ")"
   ]
  },
  {
   "cell_type": "code",
   "execution_count": null,
   "metadata": {},
   "outputs": [],
   "source": [
    "def _loss_NMJMC(y_true, y_pred, energy_function, factor_distance_all):\n",
    "    x, y, j_x = nn_01.split_output(y_pred)\n",
    "    E_x = energy_function(y_true)\n",
    "\n",
    "    energy = tf.check_numerics(energy_function(y), \"y\") - E_x\n",
    "    diff_all = y - y_true\n",
    "    red_diff_all = factor_distance_all * tf.reduce_sum(diff_all ** 2, axis=1)\n",
    "\n",
    "    log_jacobian = tf.reduce_sum(j_x, axis=1)\n",
    "    negative_log_acceptance = energy - log_jacobian\n",
    "    return (negative_log_acceptance + factor_distance_all * red_diff_all) ** 2"
   ]
  },
  {
   "cell_type": "code",
   "execution_count": null,
   "metadata": {},
   "outputs": [],
   "source": [
    "def wrapped_partial(func, *args, **kwargs):\n",
    "    partial_func = partial(func, *args, **kwargs)\n",
    "    update_wrapper(partial_func, func)\n",
    "    return partial_func"
   ]
  },
  {
   "cell_type": "code",
   "execution_count": null,
   "metadata": {},
   "outputs": [],
   "source": [
    "loss_1 = wrapped_partial(\n",
    "    _loss_NMJMC, energy_function=triple_well.energy_tf, factor_distance_all=100.0\n",
    ")\n",
    "loss_2 = wrapped_partial(\n",
    "    _loss_NMJMC, energy_function=triple_well.energy_tf, factor_distance_all=1.0\n",
    ")"
   ]
  },
  {
   "cell_type": "code",
   "execution_count": null,
   "metadata": {},
   "outputs": [],
   "source": [
    "training_01 = np.concatenate([data[0, :], data[1, :]])\n",
    "labels_01 = np.concatenate([data[1, :], data[0, :]])\n",
    "training_02 = np.concatenate([data[0, :], data[2, :]])\n",
    "labels_02 = np.concatenate([data[2, :], data[0, :]])\n",
    "training_12 = np.concatenate([data[1, :], data[2, :]])\n",
    "labels_12 = np.concatenate([data[2, :], data[1, :]])"
   ]
  },
  {
   "cell_type": "code",
   "execution_count": null,
   "metadata": {},
   "outputs": [],
   "source": [
    "nn_01.train_pair(training_01, labels_01, loss_1, nepochs=100)\n",
    "nn_02.train_pair(training_02, labels_02, loss_1, nepochs=100)\n",
    "nn_12.train_pair(training_12, labels_12, loss_1, nepochs=100)"
   ]
  },
  {
   "cell_type": "code",
   "execution_count": null,
   "metadata": {},
   "outputs": [],
   "source": [
    "nn_01.train_pair(training_01, labels_01, loss_2, nepochs=100, learning_rate=0.0001)\n",
    "nn_02.train_pair(training_02, labels_02, loss_2, nepochs=100, learning_rate=0.0001)\n",
    "nn_12.train_pair(training_12, labels_12, loss_2, nepochs=100, learning_rate=0.0001)"
   ]
  },
  {
   "cell_type": "code",
   "execution_count": null,
   "metadata": {},
   "outputs": [],
   "source": [
    "out = nn_12.generate_output(training_12[-10000:])"
   ]
  },
  {
   "cell_type": "code",
   "execution_count": null,
   "metadata": {},
   "outputs": [],
   "source": [
    "plt.hist2d(out['x'][:,0], out['x'][:,1], range=[[-3,3],[-3,3]], bins=100);"
   ]
  },
  {
   "cell_type": "code",
   "execution_count": null,
   "metadata": {},
   "outputs": [],
   "source": [
    "plt.hist2d(out['y'][:,0], out['y'][:,1], range=[[-3,3],[-3,3]], bins=100);"
   ]
  },
  {
   "cell_type": "code",
   "execution_count": null,
   "metadata": {},
   "outputs": [],
   "source": [
    "nn_01.save_network('../local_data/pretrained_models/rnvp_01_NJMC_full_partition')\n",
    "nn_02.save_network('../local_data/pretrained_models/rnvp_02_NJMC_full_partition')\n",
    "nn_12.save_network('../local_data/pretrained_models/rnvp_12_NJMC_full_partition')"
   ]
  }
 ],
 "metadata": {
  "kernelspec": {
   "display_name": "Python 3",
   "language": "python",
   "name": "python3"
  },
  "language_info": {
   "codemirror_mode": {
    "name": "ipython",
    "version": 3
   },
   "file_extension": ".py",
   "mimetype": "text/x-python",
   "name": "python",
   "nbconvert_exporter": "python",
   "pygments_lexer": "ipython3",
   "version": "3.7.3"
  }
 },
 "nbformat": 4,
 "nbformat_minor": 2
}
