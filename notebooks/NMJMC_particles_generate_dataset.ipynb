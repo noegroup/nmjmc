{
 "cells": [
  {
   "cell_type": "code",
   "execution_count": null,
   "metadata": {},
   "outputs": [],
   "source": [
    "from nmjmc import systems\n",
    "from nmjmc import sampling\n",
    "from nmjmc import map_to_reference\n",
    "from tqdm import tqdm_notebook\n",
    "import numpy as np\n",
    "import matplotlib.pyplot as plt"
   ]
  },
  {
   "cell_type": "code",
   "execution_count": null,
   "metadata": {},
   "outputs": [],
   "source": [
    "potential_parameters = {\n",
    "    \"nsolvent\": 36,\n",
    "    \"eps\": 1.0,  # LJ prefactor\n",
    "    \"rm\": 1.0,  # LJ particle size\n",
    "    \"dimer_slope\": 0.0,  # dimer slope parameter\n",
    "    \"dimer_a\": 25.0,  # dimer x2 parameter\n",
    "    \"dimer_b\": 10.0,  # dimer x4 parameter\n",
    "    \"dimer_dmid\": 1.5,  # dimer transition state distance\n",
    "    \"dimer_k\": 20.0,  # dimer force constant\n",
    "    \"box_halfsize\": 3.0,\n",
    "    \"box_k\": 100.0,  # box repulsion force constant\n",
    "    \"grid_k\": 0.0,  # restraint strength to particle grid (to avoid permutation)\n",
    "}"
   ]
  },
  {
   "cell_type": "code",
   "execution_count": null,
   "metadata": {},
   "outputs": [],
   "source": [
    "system = systems.RepulsiveParticles(params=potential_parameters)\n",
    "references = np.load(\"../local_data/particles_reference_configurations.npz\")\n",
    "reference_open = references[\"reference_open\"]\n",
    "reference_closed = references[\"reference_closed\"]"
   ]
  },
  {
   "cell_type": "code",
   "execution_count": null,
   "metadata": {},
   "outputs": [],
   "source": [
    "class BiasedParticleSystem:\n",
    "    def __init__(\n",
    "        self, system, reference_open, reference_closed, k_bias=5, dimer_split=1.5\n",
    "    ):\n",
    "        self.system = system\n",
    "        self.reference_open = reference_open\n",
    "        self.reference_closed = reference_closed\n",
    "        self.k_bias = k_bias\n",
    "        self.dimer_split = dimer_split\n",
    "\n",
    "    def energy_bias(self, x):\n",
    "        split = np.linalg.norm(x[:, :2] - x[:, 2:4], axis=1)\n",
    "        idcs_open = np.where(split > self.dimer_split)[0]\n",
    "        idcs_closed = np.where(split < self.dimer_split)[0]\n",
    "        E_bias = np.zeros(len(x))\n",
    "        E_bias[idcs_open] = np.sum((x[idcs_open] - self.reference_open) ** 2, axis=1)\n",
    "        E_bias[idcs_closed] = np.sum(\n",
    "            (x[idcs_closed] - self.reference_closed) ** 2, axis=1\n",
    "        )\n",
    "        return self.k_bias * E_bias\n",
    "\n",
    "    def energy(self, x):\n",
    "        E_system = self.system.energy(x)\n",
    "        E_bias = self.energy_bias(x)\n",
    "        return E_system + E_bias"
   ]
  },
  {
   "cell_type": "code",
   "execution_count": null,
   "metadata": {},
   "outputs": [],
   "source": [
    "bias_k = np.array([1000, 10, 5, 2, 1, 0])\n",
    "n_steps = 10_000_000\n",
    "stride = 100"
   ]
  },
  {
   "cell_type": "code",
   "execution_count": null,
   "metadata": {},
   "outputs": [],
   "source": [
    "samples_open = []\n",
    "samples_closed = []\n",
    "for bias in tqdm_notebook(bias_k):\n",
    "    biased_system = BiasedParticleSystem(\n",
    "        system, reference_open, reference_closed, k_bias=bias\n",
    "    )\n",
    "    sampler_closed = sampling.MCSampler(\n",
    "        biased_system, reference_closed, 76, stride=stride\n",
    "    )\n",
    "    sampler_open = sampling.MCSampler(biased_system, reference_open, 76, stride=stride)\n",
    "    sampler_open.run(n_steps, reporter=\"notebook\")\n",
    "    sampler_closed.run(n_steps, reporter=\"notebook\")\n",
    "    samples_open.append(map_to_reference(sampler_open.traj, reference_open))\n",
    "    samples_closed.append(map_to_reference(sampler_closed.traj, reference_closed))\n",
    "samples_open = np.array(samples_open)\n",
    "samples_closed = np.array(samples_closed)"
   ]
  },
  {
   "cell_type": "code",
   "execution_count": null,
   "metadata": {},
   "outputs": [],
   "source": [
    "np.savez(\n",
    "    \"../local_data/training_data_particles_biased\",\n",
    "    params=potential_parameters,\n",
    "    samples_open=samples_open,\n",
    "    samples_closed=samples_closed,\n",
    "    bias_k=bias_k,\n",
    ")"
   ]
  }
 ],
 "metadata": {
  "kernelspec": {
   "display_name": "Python 3",
   "language": "python",
   "name": "python3"
  },
  "language_info": {
   "codemirror_mode": {
    "name": "ipython",
    "version": 3
   },
   "file_extension": ".py",
   "mimetype": "text/x-python",
   "name": "python",
   "nbconvert_exporter": "python",
   "pygments_lexer": "ipython3",
   "version": "3.7.3"
  }
 },
 "nbformat": 4,
 "nbformat_minor": 2
}
